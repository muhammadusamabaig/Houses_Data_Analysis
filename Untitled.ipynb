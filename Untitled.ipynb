{
 "cells": [
  {
   "cell_type": "code",
   "execution_count": 1,
   "metadata": {},
   "outputs": [],
   "source": [
    "import pandas as pd\n",
    "import numpy as np\n"
   ]
  },
  {
   "cell_type": "code",
   "execution_count": 2,
   "metadata": {},
   "outputs": [],
   "source": [
    "df_product = pd.read_excel(r'product.xlsx')"
   ]
  },
  {
   "cell_type": "code",
   "execution_count": 3,
   "metadata": {},
   "outputs": [],
   "source": [
    "df_customer=pd.read_excel(r'customer.xlsx')\n"
   ]
  },
  {
   "cell_type": "code",
   "execution_count": 4,
   "metadata": {},
   "outputs": [],
   "source": [
    "df_product.columns=['ID','Building','Year of sale','Month of sale','Type of property','property','Area','Price','Status']"
   ]
  },
  {
   "cell_type": "code",
   "execution_count": 5,
   "metadata": {},
   "outputs": [
    {
     "data": {
      "text/plain": [
       "ID                    int64\n",
       "Building              int64\n",
       "Year of sale        float64\n",
       "Month of sale       float64\n",
       "Type of property     object\n",
       "property              int64\n",
       "Area                float64\n",
       "Price               float64\n",
       "Status               object\n",
       "dtype: object"
      ]
     },
     "execution_count": 5,
     "metadata": {},
     "output_type": "execute_result"
    }
   ],
   "source": [
    "df_product.dtypes"
   ]
  },
  {
   "cell_type": "code",
   "execution_count": 6,
   "metadata": {},
   "outputs": [
    {
     "data": {
      "text/html": [
       "<div>\n",
       "<style scoped>\n",
       "    .dataframe tbody tr th:only-of-type {\n",
       "        vertical-align: middle;\n",
       "    }\n",
       "\n",
       "    .dataframe tbody tr th {\n",
       "        vertical-align: top;\n",
       "    }\n",
       "\n",
       "    .dataframe thead th {\n",
       "        text-align: right;\n",
       "    }\n",
       "</style>\n",
       "<table border=\"1\" class=\"dataframe\">\n",
       "  <thead>\n",
       "    <tr style=\"text-align: right;\">\n",
       "      <th></th>\n",
       "      <th>ID</th>\n",
       "      <th>Building</th>\n",
       "      <th>Year of sale</th>\n",
       "      <th>Month of sale</th>\n",
       "      <th>Type of property</th>\n",
       "      <th>property</th>\n",
       "      <th>Area</th>\n",
       "      <th>Price</th>\n",
       "      <th>Status</th>\n",
       "    </tr>\n",
       "  </thead>\n",
       "  <tbody>\n",
       "    <tr>\n",
       "      <th>0</th>\n",
       "      <td>1030</td>\n",
       "      <td>1</td>\n",
       "      <td>2005.0</td>\n",
       "      <td>11.0</td>\n",
       "      <td>Apartment</td>\n",
       "      <td>30</td>\n",
       "      <td>743.0856</td>\n",
       "      <td>246172.6760</td>\n",
       "      <td>Sold</td>\n",
       "    </tr>\n",
       "    <tr>\n",
       "      <th>1</th>\n",
       "      <td>1029</td>\n",
       "      <td>1</td>\n",
       "      <td>2005.0</td>\n",
       "      <td>10.0</td>\n",
       "      <td>Apartment</td>\n",
       "      <td>29</td>\n",
       "      <td>756.2128</td>\n",
       "      <td>246331.9040</td>\n",
       "      <td>Sold</td>\n",
       "    </tr>\n",
       "    <tr>\n",
       "      <th>2</th>\n",
       "      <td>2002</td>\n",
       "      <td>2</td>\n",
       "      <td>2007.0</td>\n",
       "      <td>7.0</td>\n",
       "      <td>Apartment</td>\n",
       "      <td>2</td>\n",
       "      <td>587.2808</td>\n",
       "      <td>209280.9104</td>\n",
       "      <td>Sold</td>\n",
       "    </tr>\n",
       "    <tr>\n",
       "      <th>3</th>\n",
       "      <td>2031</td>\n",
       "      <td>2</td>\n",
       "      <td>2007.0</td>\n",
       "      <td>12.0</td>\n",
       "      <td>Apartment</td>\n",
       "      <td>31</td>\n",
       "      <td>1604.7464</td>\n",
       "      <td>452667.0064</td>\n",
       "      <td>Sold</td>\n",
       "    </tr>\n",
       "    <tr>\n",
       "      <th>4</th>\n",
       "      <td>1049</td>\n",
       "      <td>1</td>\n",
       "      <td>2004.0</td>\n",
       "      <td>11.0</td>\n",
       "      <td>Apartment</td>\n",
       "      <td>49</td>\n",
       "      <td>1375.4508</td>\n",
       "      <td>467083.3132</td>\n",
       "      <td>Sold</td>\n",
       "    </tr>\n",
       "    <tr>\n",
       "      <th>...</th>\n",
       "      <td>...</td>\n",
       "      <td>...</td>\n",
       "      <td>...</td>\n",
       "      <td>...</td>\n",
       "      <td>...</td>\n",
       "      <td>...</td>\n",
       "      <td>...</td>\n",
       "      <td>...</td>\n",
       "      <td>...</td>\n",
       "    </tr>\n",
       "    <tr>\n",
       "      <th>262</th>\n",
       "      <td>5044</td>\n",
       "      <td>5</td>\n",
       "      <td>NaN</td>\n",
       "      <td>NaN</td>\n",
       "      <td>Apartment</td>\n",
       "      <td>44</td>\n",
       "      <td>1238.5836</td>\n",
       "      <td>322610.7392</td>\n",
       "      <td>NaN</td>\n",
       "    </tr>\n",
       "    <tr>\n",
       "      <th>263</th>\n",
       "      <td>5047</td>\n",
       "      <td>5</td>\n",
       "      <td>NaN</td>\n",
       "      <td>NaN</td>\n",
       "      <td>Apartment</td>\n",
       "      <td>47</td>\n",
       "      <td>794.5184</td>\n",
       "      <td>279191.2560</td>\n",
       "      <td>NaN</td>\n",
       "    </tr>\n",
       "    <tr>\n",
       "      <th>264</th>\n",
       "      <td>5048</td>\n",
       "      <td>5</td>\n",
       "      <td>NaN</td>\n",
       "      <td>NaN</td>\n",
       "      <td>Apartment</td>\n",
       "      <td>48</td>\n",
       "      <td>1013.2692</td>\n",
       "      <td>287996.5296</td>\n",
       "      <td>NaN</td>\n",
       "    </tr>\n",
       "    <tr>\n",
       "      <th>265</th>\n",
       "      <td>5050</td>\n",
       "      <td>5</td>\n",
       "      <td>NaN</td>\n",
       "      <td>NaN</td>\n",
       "      <td>Apartment</td>\n",
       "      <td>50</td>\n",
       "      <td>1074.7088</td>\n",
       "      <td>365868.7776</td>\n",
       "      <td>NaN</td>\n",
       "    </tr>\n",
       "    <tr>\n",
       "      <th>266</th>\n",
       "      <td>5051</td>\n",
       "      <td>5</td>\n",
       "      <td>NaN</td>\n",
       "      <td>NaN</td>\n",
       "      <td>Apartment</td>\n",
       "      <td>51</td>\n",
       "      <td>789.2460</td>\n",
       "      <td>199216.4040</td>\n",
       "      <td>NaN</td>\n",
       "    </tr>\n",
       "  </tbody>\n",
       "</table>\n",
       "<p>267 rows × 9 columns</p>\n",
       "</div>"
      ],
      "text/plain": [
       "       ID  Building  Year of sale  Month of sale Type of property  property  \\\n",
       "0    1030         1        2005.0           11.0        Apartment        30   \n",
       "1    1029         1        2005.0           10.0        Apartment        29   \n",
       "2    2002         2        2007.0            7.0        Apartment         2   \n",
       "3    2031         2        2007.0           12.0        Apartment        31   \n",
       "4    1049         1        2004.0           11.0        Apartment        49   \n",
       "..    ...       ...           ...            ...              ...       ...   \n",
       "262  5044         5           NaN            NaN        Apartment        44   \n",
       "263  5047         5           NaN            NaN        Apartment        47   \n",
       "264  5048         5           NaN            NaN        Apartment        48   \n",
       "265  5050         5           NaN            NaN        Apartment        50   \n",
       "266  5051         5           NaN            NaN        Apartment        51   \n",
       "\n",
       "          Area        Price Status  \n",
       "0     743.0856  246172.6760   Sold  \n",
       "1     756.2128  246331.9040   Sold  \n",
       "2     587.2808  209280.9104   Sold  \n",
       "3    1604.7464  452667.0064   Sold  \n",
       "4    1375.4508  467083.3132   Sold  \n",
       "..         ...          ...    ...  \n",
       "262  1238.5836  322610.7392    NaN  \n",
       "263   794.5184  279191.2560    NaN  \n",
       "264  1013.2692  287996.5296    NaN  \n",
       "265  1074.7088  365868.7776    NaN  \n",
       "266   789.2460  199216.4040    NaN  \n",
       "\n",
       "[267 rows x 9 columns]"
      ]
     },
     "execution_count": 6,
     "metadata": {},
     "output_type": "execute_result"
    }
   ],
   "source": [
    "df_product"
   ]
  },
  {
   "cell_type": "code",
   "execution_count": 7,
   "metadata": {},
   "outputs": [
    {
     "data": {
      "text/plain": [
       "Unnamed: 0           float64\n",
       "ID                    object\n",
       "Entity                object\n",
       "Name                  object\n",
       "Surname               object\n",
       "Age                  float64\n",
       "Y                    float64\n",
       "M                    float64\n",
       "D                    float64\n",
       "Gender                object\n",
       "Country               object\n",
       "State                 object\n",
       "Purpose               object\n",
       "Deal satisfaction    float64\n",
       "Mortgage              object\n",
       "Source                object\n",
       "dtype: object"
      ]
     },
     "execution_count": 7,
     "metadata": {},
     "output_type": "execute_result"
    }
   ],
   "source": [
    "df_customer.dtypes"
   ]
  },
  {
   "cell_type": "code",
   "execution_count": 8,
   "metadata": {},
   "outputs": [
    {
     "data": {
      "text/html": [
       "<div>\n",
       "<style scoped>\n",
       "    .dataframe tbody tr th:only-of-type {\n",
       "        vertical-align: middle;\n",
       "    }\n",
       "\n",
       "    .dataframe tbody tr th {\n",
       "        vertical-align: top;\n",
       "    }\n",
       "\n",
       "    .dataframe thead th {\n",
       "        text-align: right;\n",
       "    }\n",
       "</style>\n",
       "<table border=\"1\" class=\"dataframe\">\n",
       "  <thead>\n",
       "    <tr style=\"text-align: right;\">\n",
       "      <th></th>\n",
       "      <th>ID</th>\n",
       "      <th>Entity</th>\n",
       "      <th>Name</th>\n",
       "      <th>Surname</th>\n",
       "      <th>Age</th>\n",
       "      <th>Y</th>\n",
       "      <th>M</th>\n",
       "      <th>D</th>\n",
       "      <th>Gender</th>\n",
       "      <th>Country</th>\n",
       "      <th>State</th>\n",
       "      <th>Purpose</th>\n",
       "      <th>Deal satisfaction</th>\n",
       "      <th>Mortgage</th>\n",
       "      <th>Source</th>\n",
       "    </tr>\n",
       "  </thead>\n",
       "  <tbody>\n",
       "    <tr>\n",
       "      <th>0</th>\n",
       "      <td>C0028</td>\n",
       "      <td>Individual</td>\n",
       "      <td>Madalyn</td>\n",
       "      <td>Mercer</td>\n",
       "      <td>19.0</td>\n",
       "      <td>1986.0</td>\n",
       "      <td>6.0</td>\n",
       "      <td>21.0</td>\n",
       "      <td>F</td>\n",
       "      <td>USA</td>\n",
       "      <td>California</td>\n",
       "      <td>Home</td>\n",
       "      <td>5.0</td>\n",
       "      <td>No</td>\n",
       "      <td>Website</td>\n",
       "    </tr>\n",
       "    <tr>\n",
       "      <th>1</th>\n",
       "      <td>C0027</td>\n",
       "      <td>Individual</td>\n",
       "      <td>Lara</td>\n",
       "      <td>Carrillo</td>\n",
       "      <td>22.0</td>\n",
       "      <td>1983.0</td>\n",
       "      <td>2.0</td>\n",
       "      <td>24.0</td>\n",
       "      <td>F</td>\n",
       "      <td>USA</td>\n",
       "      <td>California</td>\n",
       "      <td>Home</td>\n",
       "      <td>5.0</td>\n",
       "      <td>No</td>\n",
       "      <td>Website</td>\n",
       "    </tr>\n",
       "    <tr>\n",
       "      <th>2</th>\n",
       "      <td>C0112</td>\n",
       "      <td>Individual</td>\n",
       "      <td>Donavan</td>\n",
       "      <td>Flowers</td>\n",
       "      <td>22.0</td>\n",
       "      <td>1985.0</td>\n",
       "      <td>12.0</td>\n",
       "      <td>27.0</td>\n",
       "      <td>M</td>\n",
       "      <td>USA</td>\n",
       "      <td>California</td>\n",
       "      <td>Home</td>\n",
       "      <td>1.0</td>\n",
       "      <td>Yes</td>\n",
       "      <td>Client</td>\n",
       "    </tr>\n",
       "    <tr>\n",
       "      <th>3</th>\n",
       "      <td>C0160</td>\n",
       "      <td>Individual</td>\n",
       "      <td>Darien</td>\n",
       "      <td>Dorsey</td>\n",
       "      <td>22.0</td>\n",
       "      <td>1985.0</td>\n",
       "      <td>12.0</td>\n",
       "      <td>27.0</td>\n",
       "      <td>M</td>\n",
       "      <td>USA</td>\n",
       "      <td>California</td>\n",
       "      <td>Investment</td>\n",
       "      <td>3.0</td>\n",
       "      <td>Yes</td>\n",
       "      <td>Website</td>\n",
       "    </tr>\n",
       "    <tr>\n",
       "      <th>4</th>\n",
       "      <td>C0014</td>\n",
       "      <td>Individual</td>\n",
       "      <td>Alessandra</td>\n",
       "      <td>Perry</td>\n",
       "      <td>25.0</td>\n",
       "      <td>1979.0</td>\n",
       "      <td>5.0</td>\n",
       "      <td>15.0</td>\n",
       "      <td>F</td>\n",
       "      <td>USA</td>\n",
       "      <td>California</td>\n",
       "      <td>Home</td>\n",
       "      <td>4.0</td>\n",
       "      <td>No</td>\n",
       "      <td>Agency</td>\n",
       "    </tr>\n",
       "    <tr>\n",
       "      <th>...</th>\n",
       "      <td>...</td>\n",
       "      <td>...</td>\n",
       "      <td>...</td>\n",
       "      <td>...</td>\n",
       "      <td>...</td>\n",
       "      <td>...</td>\n",
       "      <td>...</td>\n",
       "      <td>...</td>\n",
       "      <td>...</td>\n",
       "      <td>...</td>\n",
       "      <td>...</td>\n",
       "      <td>...</td>\n",
       "      <td>...</td>\n",
       "      <td>...</td>\n",
       "      <td>...</td>\n",
       "    </tr>\n",
       "    <tr>\n",
       "      <th>191</th>\n",
       "      <td>C0174</td>\n",
       "      <td>Firm</td>\n",
       "      <td>Marleez</td>\n",
       "      <td>Co</td>\n",
       "      <td>NaN</td>\n",
       "      <td>NaN</td>\n",
       "      <td>NaN</td>\n",
       "      <td>NaN</td>\n",
       "      <td>NaN</td>\n",
       "      <td>USA</td>\n",
       "      <td>California</td>\n",
       "      <td>Investment</td>\n",
       "      <td>5.0</td>\n",
       "      <td>No</td>\n",
       "      <td>Website</td>\n",
       "    </tr>\n",
       "    <tr>\n",
       "      <th>192</th>\n",
       "      <td>C0174</td>\n",
       "      <td>Firm</td>\n",
       "      <td>Marleez</td>\n",
       "      <td>Co</td>\n",
       "      <td>NaN</td>\n",
       "      <td>NaN</td>\n",
       "      <td>NaN</td>\n",
       "      <td>NaN</td>\n",
       "      <td>NaN</td>\n",
       "      <td>USA</td>\n",
       "      <td>California</td>\n",
       "      <td>Investment</td>\n",
       "      <td>5.0</td>\n",
       "      <td>No</td>\n",
       "      <td>Website</td>\n",
       "    </tr>\n",
       "    <tr>\n",
       "      <th>193</th>\n",
       "      <td>C0174</td>\n",
       "      <td>Firm</td>\n",
       "      <td>Marleez</td>\n",
       "      <td>Co</td>\n",
       "      <td>NaN</td>\n",
       "      <td>NaN</td>\n",
       "      <td>NaN</td>\n",
       "      <td>NaN</td>\n",
       "      <td>NaN</td>\n",
       "      <td>USA</td>\n",
       "      <td>California</td>\n",
       "      <td>Investment</td>\n",
       "      <td>5.0</td>\n",
       "      <td>No</td>\n",
       "      <td>Website</td>\n",
       "    </tr>\n",
       "    <tr>\n",
       "      <th>194</th>\n",
       "      <td>C0174</td>\n",
       "      <td>Firm</td>\n",
       "      <td>Marleez</td>\n",
       "      <td>Co</td>\n",
       "      <td>NaN</td>\n",
       "      <td>NaN</td>\n",
       "      <td>NaN</td>\n",
       "      <td>NaN</td>\n",
       "      <td>NaN</td>\n",
       "      <td>USA</td>\n",
       "      <td>California</td>\n",
       "      <td>Investment</td>\n",
       "      <td>5.0</td>\n",
       "      <td>No</td>\n",
       "      <td>Website</td>\n",
       "    </tr>\n",
       "    <tr>\n",
       "      <th>195</th>\n",
       "      <td>C0174</td>\n",
       "      <td>Firm</td>\n",
       "      <td>Marleez</td>\n",
       "      <td>Co</td>\n",
       "      <td>NaN</td>\n",
       "      <td>NaN</td>\n",
       "      <td>NaN</td>\n",
       "      <td>NaN</td>\n",
       "      <td>NaN</td>\n",
       "      <td>USA</td>\n",
       "      <td>California</td>\n",
       "      <td>Investment</td>\n",
       "      <td>5.0</td>\n",
       "      <td>No</td>\n",
       "      <td>Website</td>\n",
       "    </tr>\n",
       "  </tbody>\n",
       "</table>\n",
       "<p>196 rows × 15 columns</p>\n",
       "</div>"
      ],
      "text/plain": [
       "        ID      Entity        Name   Surname   Age       Y     M     D Gender  \\\n",
       "0    C0028  Individual     Madalyn    Mercer  19.0  1986.0   6.0  21.0      F   \n",
       "1    C0027  Individual        Lara  Carrillo  22.0  1983.0   2.0  24.0      F   \n",
       "2    C0112  Individual     Donavan   Flowers  22.0  1985.0  12.0  27.0      M   \n",
       "3    C0160  Individual      Darien    Dorsey  22.0  1985.0  12.0  27.0      M   \n",
       "4    C0014  Individual  Alessandra     Perry  25.0  1979.0   5.0  15.0      F   \n",
       "..     ...         ...         ...       ...   ...     ...   ...   ...    ...   \n",
       "191  C0174        Firm     Marleez        Co   NaN     NaN   NaN   NaN    NaN   \n",
       "192  C0174        Firm     Marleez        Co   NaN     NaN   NaN   NaN    NaN   \n",
       "193  C0174        Firm     Marleez        Co   NaN     NaN   NaN   NaN    NaN   \n",
       "194  C0174        Firm     Marleez        Co   NaN     NaN   NaN   NaN    NaN   \n",
       "195  C0174        Firm     Marleez        Co   NaN     NaN   NaN   NaN    NaN   \n",
       "\n",
       "    Country       State     Purpose  Deal satisfaction Mortgage   Source  \n",
       "0       USA  California        Home                5.0       No  Website  \n",
       "1       USA  California        Home                5.0       No  Website  \n",
       "2       USA  California        Home                1.0      Yes   Client  \n",
       "3       USA  California  Investment                3.0      Yes  Website  \n",
       "4       USA  California        Home                4.0       No   Agency  \n",
       "..      ...         ...         ...                ...      ...      ...  \n",
       "191     USA  California  Investment                5.0       No  Website  \n",
       "192     USA  California  Investment                5.0       No  Website  \n",
       "193     USA  California  Investment                5.0       No  Website  \n",
       "194     USA  California  Investment                5.0       No  Website  \n",
       "195     USA  California  Investment                5.0       No  Website  \n",
       "\n",
       "[196 rows x 15 columns]"
      ]
     },
     "execution_count": 8,
     "metadata": {},
     "output_type": "execute_result"
    }
   ],
   "source": [
    "df_customer.drop('Unnamed: 0',axis=1)"
   ]
  },
  {
   "cell_type": "code",
   "execution_count": 9,
   "metadata": {},
   "outputs": [
    {
     "data": {
      "text/plain": [
       "(68.71794871794872, 31.28205128205128)"
      ]
     },
     "execution_count": 9,
     "metadata": {},
     "output_type": "execute_result"
    }
   ],
   "source": [
    "NO,YES=(df_customer['Mortgage'].value_counts()/df_customer['Mortgage'].count())*100\n",
    "NO, YES\n",
    "# df_customer['Mortgage'].count()"
   ]
  },
  {
   "cell_type": "code",
   "execution_count": 10,
   "metadata": {},
   "outputs": [],
   "source": [
    "# YES= YES/df_customer['Mortgage'].count()*100\n",
    "# NO=NO/df_customer['Mortgage'].count()*100\n",
    "# YES,NO"
   ]
  },
  {
   "cell_type": "code",
   "execution_count": 11,
   "metadata": {},
   "outputs": [
    {
     "data": {
      "image/png": "[encoded data removed]",
      "text/plain": [
       "<Figure size 360x360 with 1 Axes>"
      ]
     },
     "metadata": {},
     "output_type": "display_data"
    }
   ],
   "source": [
    "YES,NO\n",
    "df = pd.DataFrame({'Mortgage': [YES,NO]},\n",
    "                  index=['YES', 'NO'])\n",
    "plot = df.plot.pie(y='Mortgage', figsize=(5, 5))"
   ]
  },
  {
   "cell_type": "code",
   "execution_count": 18,
   "metadata": {},
   "outputs": [
    {
     "data": {
      "text/plain": [
       "array([[<AxesSubplot:title={'center':'Year of sale'}>]], dtype=object)"
      ]
     },
     "execution_count": 18,
     "metadata": {},
     "output_type": "execute_result"
    },
    {
     "data": {
      "image/png": "[encoded data removed]",
      "text/plain": [
       "<Figure size 432x288 with 1 Axes>"
      ]
     },
     "metadata": {
      "needs_background": "light"
     },
     "output_type": "display_data"
    }
   ],
   "source": [
    "df_product['Year of sale'].unique()\n",
    "import matplotlib.pyplot as plt\n",
    "\n",
    "# pd.cut(df_product['Year of sale'],6)\n",
    "# df_product['Year of sale'].astype()\n",
    "# df_product.dropna(axis=1)\n",
    "# df_product.astype({\"Year of sale\": int},errors='ignore')\n",
    "df_product.hist(column='Year of sale',bins=[2004,2005,2006,2007,2008,2009,2010])"
   ]
  },
  {
   "cell_type": "code",
   "execution_count": 19,
   "metadata": {},
   "outputs": [
    {
     "data": {
      "text/plain": [
       "array([2005., 2007., 2004., 2008., 2006., 2010.,   nan])"
      ]
     },
     "execution_count": 19,
     "metadata": {},
     "output_type": "execute_result"
    }
   ],
   "source": [
    "df_product['Year of sale'].unique()"
   ]
  },
  {
   "cell_type": "code",
   "execution_count": 20,
   "metadata": {},
   "outputs": [
    {
     "data": {
      "text/plain": [
       "30"
      ]
     },
     "execution_count": 20,
     "metadata": {},
     "output_type": "execute_result"
    }
   ],
   "source": [
    "df_product[df_product['Price']<=200000]['Price'].count()"
   ]
  },
  {
   "cell_type": "code",
   "execution_count": null,
   "metadata": {},
   "outputs": [],
   "source": []
  },
  {
   "cell_type": "code",
   "execution_count": 21,
   "metadata": {},
   "outputs": [
    {
     "name": "stdout",
     "output_type": "stream",
     "text": [
      "(100000, 30.0)\n",
      "(200000, 153.0)\n",
      "(300000, 51.0)\n",
      "(400000, 26.0)\n",
      "(500000, 7.0)\n",
      "(600000, 0.0)\n"
     ]
    },
    {
     "data": {
      "image/png": "[encoded data removed]",
      "text/plain": [
       "<Figure size 720x504 with 1 Axes>"
      ]
     },
     "metadata": {
      "needs_background": "light"
     },
     "output_type": "display_data"
    }
   ],
   "source": [
    "# df_product.hist(column='Price')\n",
    "plt.figure(figsize=(10,7))\n",
    "a=plt.hist(x=df_product['Price'],bins=[100000,200000,300000,400000,500000,600000,700000],align='mid',color='green')\n",
    "# plt.annotate('iiuisud',xy=(200000,20))\n",
    "ab=zip(a[1],a[0])\n",
    "for i in ab:\n",
    "    print(i)\n",
    "    plt.annotate(i[1],xy=(i[0]+40000,i[1]),color=\"red\")\n"
   ]
  },
  {
   "cell_type": "code",
   "execution_count": 16,
   "metadata": {},
   "outputs": [
    {
     "data": {
      "text/plain": [
       "array([[<AxesSubplot:title={'center':'Price'}>]], dtype=object)"
      ]
     },
     "execution_count": 16,
     "metadata": {},
     "output_type": "execute_result"
    },
    {
     "data": {
      "image/png": "[encoded data removed]",
      "text/plain": [
       "<Figure size 432x288 with 1 Axes>"
      ]
     },
     "metadata": {
      "needs_background": "light"
     },
     "output_type": "display_data"
    }
   ],
   "source": [
    "df_product.hist(column='Price')\n"
   ]
  },
  {
   "cell_type": "code",
   "execution_count": 17,
   "metadata": {},
   "outputs": [
    {
     "data": {
      "text/plain": [
       "538271.7356"
      ]
     },
     "execution_count": 17,
     "metadata": {},
     "output_type": "execute_result"
    }
   ],
   "source": [
    "df_product['Price'].max()\n"
   ]
  },
  {
   "cell_type": "code",
   "execution_count": null,
   "metadata": {},
   "outputs": [],
   "source": []
  }
 ],
 "metadata": {
  "kernelspec": {
   "display_name": "Python 3",
   "language": "python",
   "name": "python3"
  },
  "language_info": {
   "codemirror_mode": {
    "name": "ipython",
    "version": 3
   },
   "file_extension": ".py",
   "mimetype": "text/x-python",
   "name": "python",
   "nbconvert_exporter": "python",
   "pygments_lexer": "ipython3",
   "version": "3.8.5"
  }
 },
 "nbformat": 4,
 "nbformat_minor": 4
}
